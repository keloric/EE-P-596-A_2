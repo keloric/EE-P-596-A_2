{
 "cells": [
  {
   "cell_type": "markdown",
   "metadata": {},
   "source": [
    "# Homework 3\n",
    "### Kyle Hadley"
   ]
  },
  {
   "cell_type": "code",
   "execution_count": 2,
   "metadata": {},
   "outputs": [],
   "source": [
    "%matplotlib inline\n",
    "import numpy as np\n",
    "import matplotlib.pyplot as plt"
   ]
  },
  {
   "cell_type": "code",
   "execution_count": 3,
   "metadata": {},
   "outputs": [],
   "source": [
    "import warnings\n",
    "warnings.simplefilter('ignore')"
   ]
  },
  {
   "source": [
    "*Note: Worked with Joaquin Santecchia on this homework assignment.*"
   ],
   "cell_type": "markdown",
   "metadata": {}
  },
  {
   "cell_type": "markdown",
   "metadata": {},
   "source": [
    "## 1. Math Warm-up\n",
    "\n",
    "Given that our multivariate Gaussian class-conditional distributions $p(x|y)$ is defined by the equation\n",
    "\n",
    "$$p(x|y) = \\frac{1}{|2\\pi C_y|^{m/2}} exp\\left(-\\frac{1}{2}(x-\\mu_y)^T C_y^{-1}(x-\\mu_y) \\right)$$"
   ]
  },
  {
   "source": [
    "### (a)\n",
    "\n",
    "If we have an equal class variance case (i.e. $C_0 = C_1 = C$), then we write our log ratio as follows:\n",
    "\n",
    "$$\\log\\frac{p(x_i|y=1)}{p(x_i|y=0)} + \\log\\frac{p(y=1)}{p(y=0)} = \\log\\frac{p(x_i|y=1)}{p(x_i|y=0)}$$\n",
    "\n",
    "as we know that $p(y=0)=p(y=1)$, and $\\log(1) = 0$. Now applying our relationship for $p(x|y)$,\n",
    "\n",
    "$$\\log\\frac{p(x_i|y=1)}{p(x_i|y=0)} = \\log \\frac{\\left( \\frac{1}{|2\\pi C_1|^{m/2}} exp\\left(... \\right)\\right)}{\\left( \\frac{1}{|2\\pi C_0|^{m/2}} exp\\left(... \\right)\\right)}$$\n",
    "\n",
    "where $...$ represents the value inside the numerator. Given that $C_0 = C_1 = C$ and it is just a constant, the term \\frac{1}{|2\\pi C_y|^{m/2}} will cancel out from the top and bottom leaving us with,\n",
    "\n",
    "$$\\log \\frac{\\left(exp\\left(-\\frac{1}{2}(x_i-\\mu_1)^T C_1^{-1}(x_i-\\mu_1)) \\right)\\right)}{\\left(exp\\left(-\\frac{1}{2}(x_i-\\mu_0)^T C_0^{-1}(x_i-\\mu_0) \\right)\\right)}$$\n",
    "\n",
    "This can be simplified further to,\n",
    "\n",
    "$$\\log \\left(exp\\left(-\\frac{1}{2}(x_i-\\mu_1)^T C_1^{-1}(x_i-\\mu_1)) \\right)\\right) - \\log \\left(exp\\left(-\\frac{1}{2}(x_i-\\mu_0)^T C_0^{-1}(x_i-\\mu_0) \\right)\\right)$$\n",
    "$$\\left(-\\frac{1}{2}(x_i-\\mu_1)^T C_1^{-1}(x_i-\\mu_1)) \\right) - \\left(-\\frac{1}{2}(x_i-\\mu_0)^T C_0^{-1}(x_i-\\mu_0) \\right)$$\n",
    "\n",
    "Again, given that $C_0 = C_1 = C$ and combining similar terms we find,\n",
    "\n",
    "$$-\\frac{1}{2}(x_i-\\mu_1)^T C^{-1}(x_i-\\mu_1)) +\\frac{1}{2}(x_i-\\mu_0)^T C^{-1}(x_i-\\mu_0)$$\n",
    "$$(C^{-1}\\mu_1 - C^{-1}\\mu_0)^Tx_i + \\mu_0^T C^{-1} \\mu_0 - \\mu_1^T C^{-1}\\mu_1$$\n",
    "\n",
    "From this form of the log ratio, we can now equate $b_i = (C^{-1}\\mu_1 - C^{-1}\\mu_0)^T$ and $c_i = \\mu_0^T C^{-1} \\mu_0 - \\mu_1^T C^{-1}\\mu_1$ such that the log ratio is $b_ix_i + c_i$ (which can be written as $b_i x + c_i$ when we include the summation).\n"
   ],
   "cell_type": "markdown",
   "metadata": {}
  },
  {
   "cell_type": "markdown",
   "metadata": {},
   "source": [
    "## 2. Gaussian Distribution and the Curse of Dimensionality"
   ]
  },
  {
   "source": [
    "### (a)\n",
    "\n",
    "When $m=2$, we know that a \"sphere\" in 2D space is actually a circle - thus we can define $S_{2-1}(r) = S_{1}(r)$ and $V_{2}(r)$ based on the known surface area and area (i.e. volume) equations for a circle,\n",
    "\n",
    "$$S_{1}(r) = 2 \\pi r$$\n",
    "$$V_{2}(r) = \\pi r^2$$\n",
    "\n",
    "When $m=3$, a sphere follows the standard sphere equations - thus we can define $S_{3-1}(r) = S_{2}(r)$ and $V_{3}(r)$ based on the known surface area and volume equations for a sphere,\n",
    "\n",
    "$$S_{2}(r) = 4 \\pi r^2$$\n",
    "$$V_{3}(r) = \\frac{4}{3} \\pi r^3$$"
   ],
   "cell_type": "markdown",
   "metadata": {}
  },
  {
   "source": [
    "### (b)\n",
    "\n",
    "The equation $S_{m-1} = \\frac{d}{dr}V_m(r)$ states that the derivative of the volume of a $m$-dimensional sphere is its surface area (i.e. $S_{m-1}). We can see that this realtionship holds true from our derived equations from part (a) such that,\n",
    "\n",
    "$$\\frac{d}{dr}V_2(r) = \\frac{d}{dr} (\\pi r^2) = 2 \\pi r = S_{1}(r)$$\n",
    "$$\\frac{d}{dr}V_3(r) = \\frac{d}{dr} \\left(\\frac{4}{3}\\pi r^3\\right) = 4 \\pi r^2 = S_{2}(r)$$"
   ],
   "cell_type": "markdown",
   "metadata": {}
  },
  {
   "source": [
    "### (c)\n",
    "\n",
    "$$S_{m-1}(r) = \\bar{S}_{m-1} r^{m-1}$$"
   ],
   "cell_type": "markdown",
   "metadata": {}
  },
  {
   "source": [
    "### (d)\n",
    "\n",
    "*Note: Worked problem with Tess, Charlie, Dean, and Steve from class on this problem.*\n",
    "\n",
    "We can solve for $\\rho_m (r) = \\int_{x \\in \\delta_{m-1}(r)} p(x) dx$ by using our known equation for $p(x)$ first; thus,\n",
    "\n",
    "$$\\rho_m (r) = \\int_{x \\in \\delta_{m-1}(r)} \\frac{1}{(2\\pi \\sigma^2)^{m/2}} exp\\left(-\\frac{\\|x \\| _2^2}{2\\sigma^2}\\right) dx$$\n",
    "\n",
    "We can extract our first term as it is not a function of $x$ such that\n",
    "\n",
    "$$\\rho_m (r) = \\frac{1}{(2\\pi \\sigma^2)^{m/2}} \\int_{x \\in \\delta_{m-1}(r)} exp\\left(-\\frac{\\|x \\| _2^2}{2\\sigma^2}\\right) dx$$\n",
    "\n",
    "We can now substitute the relationship defined by $\\delta_{m-1}(r)$ in which $\\|x\\|_2 = r$; thus,\n",
    "\n",
    "$$\\rho_m (r) = \\frac{1}{(2\\pi \\sigma^2)^{m/2}} \\int_{x \\in \\delta_{m-1}(r)} exp\\left(\\frac{-r^2}{2\\sigma^2}\\right) dx$$\n",
    "$$\\rho_m (r) = \\frac{exp\\left(\\frac{-r^2}{2\\sigma^2}\\right)}{(2\\pi \\sigma^2)^{m/2}} \\int_{x \\in \\delta_{m-1}(r)}  dx$$\n",
    "\n",
    "From part (c), we know that the integral of all points about the surface of the m-sphere is just the surface area of the m-sphere itself (i.e. $\\int_{x \\in \\delta_{m-1}(r)} dx = \\bar{S}_{m-1}r^{m-1}$); thus,\n",
    "\n",
    "$$\\rho_m (r) = \\frac{exp\\left(\\frac{-r^2}{2\\sigma^2}\\right)}{(2\\pi \\sigma^2)^{m/2}} \\bar{S}_{m-1} r^{m-1}$$"
   ],
   "cell_type": "markdown",
   "metadata": {}
  },
  {
   "source": [
    "### (e)\n",
    "\n",
    "*Note: Worked problem with Tess, Charlie, Dean, and Steve from class on this problem.*\n",
    "\n",
    "We can show that for large $m$, that $\\rho_m(r)$ has a single maximum value $\\hat{r}$ such that $\\hat{r} \\approx \\sqrt{m}\\sigma$, by taking the derivative of $\\rho_m(r)$ with respect to $r$ such that,\n",
    "\n",
    "$$ \\frac{d}{dr} \\rho_m (r) = \\frac{d}{dr} \\left( \\frac{exp\\left(\\frac{-r^2}{2\\sigma^2}\\right)}{(2\\pi \\sigma^2)^{m/2}} \\bar{S}_{m-1} r^{m-1} \\right) = \\frac{\\bar{S}_{m-1} }{(2\\pi \\sigma^2)^{m/2}} \\frac{d}{dr}\\left(exp\\left(\\frac{-r^2}{2\\sigma^2}\\right)  r^{m-1}\\right)$$\n",
    "\n",
    "Once we've taken the derivative, we will be setting it equal to zero to find our maximum value (at $\\hat{r}$), so we can eliminate the constant term $\\frac{\\bar{S}_{m-1} }{(2\\pi \\sigma^2)^{m/2}}$ as they will be divided out. Thus, our resulting equation when set equal to zero is:\n",
    "\n",
    "$$\\frac{d}{dr}\\left(exp\\left(\\frac{-r^2}{2\\sigma^2}\\right)  r^{m-1}\\right) = 0$$\n",
    "\n",
    "Applying the product rule,\n",
    "\n",
    "$$\\frac{d}{dr}\\left(exp\\left(\\frac{-r^2}{2\\sigma^2}\\right) \\right) r^{m-1} + exp\\left(\\frac{-r^2}{2\\sigma^2}\\right) \\frac{d}{dr}\\left(r^{m-1}\\right)  = 0$$\n",
    "$$exp\\left(\\frac{-r^2}{2\\sigma^2}\\right) \\frac{-2r}{2\\sigma^2} r^{m-1} + exp\\left(\\frac{-r^2}{2\\sigma^2}\\right) (m-1)r^{m-2}  = 0$$\n",
    "\n",
    "Simplifying this,\n",
    "\n",
    "$$\\frac{-r^m}{\\sigma^2} + (m-1)r^{m-2}  = 0$$\n",
    "$$\\frac{-1}{\\sigma^2} + (m-1)r^{-2}  = 0$$\n",
    "$$(m-1)r^{-2}  = \\sigma^{-2}$$\n",
    "$$r^{2}  = (m-1)\\sigma^2$$\n",
    "$$r  = \\sqrt{(m-1)}\\sigma$$\n",
    "\n",
    "With our assumption, when we have a large $m$ we can assume that $m-1 \\approx m$; thus,\n",
    "\n",
    "$$\\hat{r} \\approx \\sqrt{m}\\sigma$$"
   ],
   "cell_type": "markdown",
   "metadata": {}
  },
  {
   "source": [
    "### (f)\n",
    "\n",
    "We can show that for large $m$ and a small value $\\epsilon$ such that $\\epsilon \\ll \\hat{r}$, that $\\rho(\\hat{r} + \\epsilon) \\approx \\rho(\\hat{r}) e^{-\\frac{\\epsilon^2}{\\sigma^2}}$, by first relating $\\rho(\\hat{r} + \\epsilon)$ and $\\rho(\\hat{r})$ through a fractional relationship such that,\n",
    "\n",
    "$$\\frac{\\rho(\\hat{r} + \\epsilon)}{\\rho(\\hat{r})} = \\frac{\\frac{\\bar{S}_{m-1} }{(2\\pi \\sigma^2)^{m/2}} exp\\left(\\frac{-(\\hat{r}+\\epsilon)^2}{2\\sigma^2}\\right)  (\\hat{r}+\\epsilon)^{m-1}}{\\frac{\\bar{S}_{m-1} }{(2\\pi \\sigma^2)^{m/2}} exp\\left(\\frac{-\\hat{r}^2}{2\\sigma^2}\\right)  \\hat{r}^{m-1}}$$\n",
    "\n",
    "Simplifying by eliminating common terms from top and bottom we're left with,\n",
    "\n",
    "$$\\frac{\\rho(\\hat{r} + \\epsilon)}{\\rho(\\hat{r})} = \\frac{exp\\left(\\frac{-(\\hat{r}+\\epsilon)^2}{2\\sigma^2}\\right)  (\\hat{r}+\\epsilon)^{m-1}}{exp\\left(\\frac{-\\hat{r}^2}{2\\sigma^2}\\right)  \\hat{r}^{m-1}}$$\n",
    "\n",
    "We can combine all terms into the exponential such that,\n",
    "\n",
    "$$\\frac{\\rho(\\hat{r} + \\epsilon)}{\\rho(\\hat{r})} = \\frac{exp\\left(\\frac{-(\\hat{r}+\\epsilon)^2}{2\\sigma^2}\\right)  exp(\\ln((\\hat{r}+\\epsilon)^{m-1})}{exp\\left(\\frac{-\\hat{r}^2}{2\\sigma^2}\\right)  exp(\\ln(\\hat{r}^{m-1}))}$$\n",
    "\n",
    "$$\\frac{\\rho(\\hat{r} + \\epsilon)}{\\rho(\\hat{r})} = exp\\left(\\frac{-(\\hat{r}+\\epsilon)^2}{2\\sigma^2} + \\ln((\\hat{r}+\\epsilon)^{m-1}) + \\frac{\\hat{r}^2}{2\\sigma^2} - \\ln(\\hat{r}^{m-1})\\right)$$\n",
    "\n",
    "Combining like terms we find,\n",
    "\n",
    "$$\\frac{\\rho(\\hat{r} + \\epsilon)}{\\rho(\\hat{r})} = exp\\left(\\frac{-(\\hat{r}+\\epsilon)^2 + \\hat{r}^{2}}{2\\sigma^2} + \\ln((\\hat{r}+\\epsilon)^{m-1}) - \\ln(\\hat{r}^{m-1})\\right)$$\n",
    "\n",
    "$$\\frac{\\rho(\\hat{r} + \\epsilon)}{\\rho(\\hat{r})} = exp\\left(\\frac{-2\\hat{r}\\epsilon - \\epsilon^2}{2\\sigma^2} + \\ln((\\hat{r}+\\epsilon)^{m-1}) - \\ln(\\hat{r}^{m-1})\\right)$$\n",
    "\n",
    "$$\\frac{\\rho(\\hat{r} + \\epsilon)}{\\rho(\\hat{r})} = exp\\left(\\frac{-2\\hat{r}\\epsilon - \\epsilon^2}{2\\sigma^2} + \\ln\\left(\\frac{(\\hat{r}+\\epsilon)^{m-1}}{\\hat{r}^{m-1}}\\right)\\right)$$\n",
    "\n",
    "$$\\frac{\\rho(\\hat{r} + \\epsilon)}{\\rho(\\hat{r})} = exp\\left(\\frac{-2\\hat{r}\\epsilon - \\epsilon^2}{2\\sigma^2} + (m-1)\\ln\\left(1 + \\frac{\\epsilon}{\\hat{r}}\\right)\\right)$$\n",
    "\n",
    "We can apply a 2-term Maclauren expansion approximation of the form $ln\\left(1+x\\right)$ such that,\n",
    "\n",
    "$$\\frac{\\rho(\\hat{r} + \\epsilon)}{\\rho(\\hat{r})} \\approx exp\\left(\\frac{-2\\hat{r}\\epsilon - \\epsilon^2}{2\\sigma^2} + (m-1)\\left(\\frac{\\epsilon}{\\hat{r}} - \\frac{1}{2}\\left(\\frac{\\epsilon}{\\hat{r}}\\right)^2\\right)\\right)$$\n",
    "\n",
    "Substituting $\\hat{r} \\approx \\sqrt{m} \\sigma$ as found in part (e),\n",
    "\n",
    "$$\\frac{\\rho(\\hat{r} + \\epsilon)}{\\rho(\\hat{r})} \\approx exp\\left(\\frac{-2\\sqrt{m}\\sigma\\epsilon - \\epsilon^2}{2\\sigma^2} + (m-1)\\left(\\frac{\\epsilon}{\\sqrt{m} \\sigma} - \\frac{\\epsilon^2}{2 m \\sigma^2}\\right)\\right)$$\n",
    "\n",
    "With our assumption, when we have a large $m$ we can assume that $m-1 \\approx m$; thus,\n",
    "\n",
    "$$\\frac{\\rho(\\hat{r} + \\epsilon)}{\\rho(\\hat{r})} \\approx exp\\left(\\frac{-2\\sqrt{m}\\sigma\\epsilon - \\epsilon^2}{2\\sigma^2} + m\\left(\\frac{\\epsilon}{\\sqrt{m} \\sigma} - \\frac{\\epsilon^2}{2 m \\sigma^2}\\right)\\right)$$\n",
    "\n",
    "$$\\frac{\\rho(\\hat{r} + \\epsilon)}{\\rho(\\hat{r})} \\approx exp\\left(\\frac{-2\\sqrt{m}\\sigma\\epsilon - \\epsilon^2}{2\\sigma^2} + \\frac{\\sqrt{m}\\epsilon}{\\sigma} - \\frac{\\epsilon^2}{2\\sigma^2}\\right)$$\n",
    "\n",
    "Simplifying we find,\n",
    "\n",
    "$$\\frac{\\rho(\\hat{r} + \\epsilon)}{\\rho(\\hat{r})} \\approx exp\\left(\\frac{-2\\sqrt{m}\\sigma\\epsilon - \\epsilon^2 + 2\\sqrt{m}\\sigma\\epsilon - \\epsilon^2}{2\\sigma^2}\\right)$$\n",
    "\n",
    "$$\\frac{\\rho(\\hat{r} + \\epsilon)}{\\rho(\\hat{r})} \\approx exp\\left(\\frac{-2 \\epsilon^2}{2\\sigma^2}\\right)$$\n",
    "\n",
    "$$\\frac{\\rho(\\hat{r} + \\epsilon)}{\\rho(\\hat{r})} \\approx exp\\left(\\frac{-\\epsilon^2}{\\sigma^2}\\right)$$\n",
    "\n",
    "$$\\rho(\\hat{r} + \\epsilon) \\approx \\rho(\\hat{r})exp\\left(\\frac{-\\epsilon^2}{\\sigma^2}\\right)$$\n",
    "\n",
    "Thus, we can see that for large $m$ and a small value $\\epsilon \\ll \\hat{r}$, $\\rho(\\hat{r} + \\epsilon) \\approx \\rho(\\hat{r})exp\\left(\\frac{-\\epsilon^2}{\\sigma^2}\\right)$."
   ],
   "cell_type": "markdown",
   "metadata": {}
  },
  {
   "source": [
    "### (g)\n",
    "\n",
    "For the high dimensional Gaussian distribution ($m$ is large), the majority of our points will reside at our value $\\sqrt{m}$ as we see in our equation $\\hat{r} \\approx \\sqrt{m}\\sigma$ where $\\sigma$ is small compared to $\\hat{r}$.\n",
    "\n",
    "For a low dimensional Guassian distribution, most points will reside around the origin $x=0$ because most of the mass is centered at the origin within the window of roughly $\\sigma$."
   ],
   "cell_type": "markdown",
   "metadata": {}
  },
  {
   "source": [
    "### (h)\n",
    "\n",
    "Calculating the probability density at the origin, we find that\n",
    "\n",
    "$$\\rho_m (0) = \\frac{exp\\left(\\frac{-(0)^2}{2\\sigma^2}\\right)}{(2\\pi \\sigma^2)^{m/2}} \\bar{S}_{m-1} (0)^{m-1} = 0$$\n",
    "\n",
    "Calculating the probability density at a point on the sphere,\n",
    "\n",
    "$$\\rho_m (\\hat{r}) = \\frac{exp\\left(\\frac{-(\\hat{r})^2}{2\\sigma^2}\\right)}{(2\\pi \\sigma^2)^{m/2}} \\bar{S}_{m-1} (\\hat{r})^{m-1} = 0$$\n",
    "\n",
    "For large $m$, i.e. high dimensionality, we can approximate $\\hat{r}$ as $\\sqrt{m} \\sigma$, such that\n",
    "\n",
    "$$\\rho_m (\\hat{r}) = \\frac{exp\\left(\\frac{-(\\sqrt{m} \\sigma)^2}{2\\sigma^2}\\right)}{(2\\pi \\sigma^2)^{m/2}} \\bar{S}_{m-1} (\\sqrt{m} \\sigma)^{m-1} = 0$$\n",
    "\n",
    "$$\\rho_m (\\hat{r}) = \\frac{exp\\left(\\frac{-m}{2}\\right)}{(2\\pi \\sigma^2)^{m/2}} \\bar{S}_{m-1} (\\sqrt{m} \\sigma)^{m-1} = 0$$\n"
   ],
   "cell_type": "markdown",
   "metadata": {}
  },
  {
   "cell_type": "markdown",
   "metadata": {},
   "source": [
    "## 3. Programming Problem: Lasso\n",
    "\n"
   ]
  },
  {
   "cell_type": "code",
   "execution_count": null,
   "metadata": {},
   "outputs": [],
   "source": []
  }
 ],
 "metadata": {
  "kernelspec": {
   "display_name": "Python 3",
   "language": "python",
   "name": "python3"
  },
  "language_info": {
   "codemirror_mode": {
    "name": "ipython",
    "version": 3
   },
   "file_extension": ".py",
   "mimetype": "text/x-python",
   "name": "python",
   "nbconvert_exporter": "python",
   "pygments_lexer": "ipython3",
   "version": "3.7.9-final"
  },
  "toc": {
   "base_numbering": 1,
   "nav_menu": {},
   "number_sections": false,
   "sideBar": true,
   "skip_h1_title": false,
   "title_cell": "Table of Contents",
   "title_sidebar": "Contents",
   "toc_cell": false,
   "toc_position": {},
   "toc_section_display": true,
   "toc_window_display": false
  },
  "varInspector": {
   "cols": {
    "lenName": 16,
    "lenType": 16,
    "lenVar": 40
   },
   "kernels_config": {
    "python": {
     "delete_cmd_postfix": "",
     "delete_cmd_prefix": "del ",
     "library": "var_list.py",
     "varRefreshCmd": "print(var_dic_list())"
    },
    "r": {
     "delete_cmd_postfix": ") ",
     "delete_cmd_prefix": "rm(",
     "library": "var_list.r",
     "varRefreshCmd": "cat(var_dic_list()) "
    }
   },
   "types_to_exclude": [
    "module",
    "function",
    "builtin_function_or_method",
    "instance",
    "_Feature"
   ],
   "window_display": false
  }
 },
 "nbformat": 4,
 "nbformat_minor": 2
}