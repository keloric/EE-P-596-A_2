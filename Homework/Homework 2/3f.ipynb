{
 "cells": [
  {
   "cell_type": "code",
   "execution_count": 1,
   "id": "wrapped-proportion",
   "metadata": {},
   "outputs": [],
   "source": [
    "# reloading data\n",
    "from sklearn import datasets\n",
    "import pandas as pd\n",
    "boston_data = datasets.load_boston()"
   ]
  },
  {
   "cell_type": "code",
   "execution_count": 2,
   "id": "annual-croatia",
   "metadata": {},
   "outputs": [],
   "source": [
    "#Testing the water with new feature selections\n",
    "boston = pd.DataFrame(boston_data.data, columns=boston_data.feature_names)\n",
    "#Our target still will be 'MEDV' Median value of owner-occupied homes in $1000's\n",
    "boston['MEDV'] = boston_data.target\n",
    "\n",
    "#RAD is a chategotical value\n",
    "boston['RAD'] = boston['RAD'].astype('category')\n",
    "price = boston.MEDV"
   ]
  },
  {
   "cell_type": "code",
   "execution_count": 3,
   "id": "shared-engagement",
   "metadata": {},
   "outputs": [],
   "source": [
    "#New feature\n",
    "import pandas as pd\n",
    "import numpy as np\n",
    "new_feature_2 = (boston['RM'])*(boston['LSTAT'])\n",
    "#print(new_feature_test1.shape)\n",
    "#print(new_feature_test2)\n",
    "df_feature = pd.DataFrame(new_feature_2, columns = ['RM*LSTAT'])\n",
    "df_target = pd.DataFrame(price, columns =['MEDV'])\n",
    "df_boston = pd.concat([df_feature, df_target,], axis = 1)"
   ]
  },
  {
   "cell_type": "code",
   "execution_count": 4,
   "id": "aboriginal-executive",
   "metadata": {},
   "outputs": [
    {
     "output_type": "stream",
     "name": "stdout",
     "text": [
      "(151, 2)\n(151,)\n(355, 2)\n(355,)\n"
     ]
    }
   ],
   "source": [
    "# Retrain with the top three features\n",
    "from sklearn.model_selection import train_test_split\n",
    "X_train_n,X_test_n,y_train_n,y_test_n=train_test_split(df_boston, price, train_size=0.3, random_state=8) \n",
    "print(X_train_n.shape)\n",
    "print(y_train_n.shape)\n",
    "print(X_test_n.shape)\n",
    "print(y_test_n.shape)"
   ]
  },
  {
   "cell_type": "code",
   "execution_count": 5,
   "id": "residential-swing",
   "metadata": {},
   "outputs": [
    {
     "output_type": "stream",
     "name": "stdout",
     "text": [
      "    Feature         Coeff\n0  RM*LSTAT -3.330669e-16\n"
     ]
    },
    {
     "output_type": "display_data",
     "data": {
      "text/plain": "'SS^2'"
     },
     "metadata": {}
    },
    {
     "output_type": "display_data",
     "data": {
      "text/plain": "    Feature         Coeff\n0  RM*LSTAT -3.330669e-16",
      "text/html": "<div>\n<style scoped>\n    .dataframe tbody tr th:only-of-type {\n        vertical-align: middle;\n    }\n\n    .dataframe tbody tr th {\n        vertical-align: top;\n    }\n\n    .dataframe thead th {\n        text-align: right;\n    }\n</style>\n<table border=\"1\" class=\"dataframe\">\n  <thead>\n    <tr style=\"text-align: right;\">\n      <th></th>\n      <th>Feature</th>\n      <th>Coeff</th>\n    </tr>\n  </thead>\n  <tbody>\n    <tr>\n      <th>0</th>\n      <td>RM*LSTAT</td>\n      <td>-3.330669e-16</td>\n    </tr>\n  </tbody>\n</table>\n</div>"
     },
     "metadata": {}
    }
   ],
   "source": [
    "def least_square_new(X, y):\n",
    "    first_part=np.dot(X.T,X)\n",
    "    second_part=np.dot(X.T,y)\n",
    "    theta=np.linalg.pinv(first_part)@second_part\n",
    "    return theta\n",
    "# apply linear regression\n",
    "theta_n = least_square_new(X_train_n, y_train_n)\n",
    "df_theta_n = pd.DataFrame(zip(df_feature, theta_n),columns=['Feature','Coeff'])\n",
    "print(df_theta_n)\n",
    "display('SS^2',df_theta_n)"
   ]
  },
  {
   "cell_type": "code",
   "execution_count": 20,
   "id": "selected-winner",
   "metadata": {},
   "outputs": [
    {
     "data": {
      "text/plain": [
       "'L2'"
      ]
     },
     "metadata": {},
     "output_type": "display_data"
    },
    {
     "data": {
      "text/html": [
       "<div>\n",
       "<style scoped>\n",
       "    .dataframe tbody tr th:only-of-type {\n",
       "        vertical-align: middle;\n",
       "    }\n",
       "\n",
       "    .dataframe tbody tr th {\n",
       "        vertical-align: top;\n",
       "    }\n",
       "\n",
       "    .dataframe thead th {\n",
       "        text-align: right;\n",
       "    }\n",
       "</style>\n",
       "<table border=\"1\" class=\"dataframe\">\n",
       "  <thead>\n",
       "    <tr style=\"text-align: right;\">\n",
       "      <th></th>\n",
       "      <th>Feature</th>\n",
       "      <th>Coeff</th>\n",
       "    </tr>\n",
       "  </thead>\n",
       "  <tbody>\n",
       "    <tr>\n",
       "      <th>0</th>\n",
       "      <td>RM*LSTAT</td>\n",
       "      <td>-0.000042</td>\n",
       "    </tr>\n",
       "  </tbody>\n",
       "</table>\n",
       "</div>"
      ],
      "text/plain": [
       "    Feature     Coeff\n",
       "0  RM*LSTAT -0.000042"
      ]
     },
     "metadata": {},
     "output_type": "display_data"
    }
   ],
   "source": [
    "\n",
    "def ridge_reg_new(X, y,eta):\n",
    "    n=X.shape[1]\n",
    "    I=np.identity(n)\n",
    "    first_part=np.dot(X.T,X)-(eta/2)*I\n",
    "    second_part=np.dot(X.T,y)\n",
    "    theta=np.linalg.pinv(first_part)@second_part\n",
    "    return theta\n",
    "\n",
    "# apply ridge regression\n",
    "theta_rn = ridge_reg_new(X_train_n, y_train_n, 15.0)\n",
    "df_theta_rn = pd.DataFrame(zip(df_feature, theta_rn),columns=['Feature','Coeff'])\n",
    "display('L2',df_theta_rn)"
   ]
  },
  {
   "cell_type": "code",
   "execution_count": 22,
   "id": "covered-palestine",
   "metadata": {},
   "outputs": [
    {
     "data": {
      "text/plain": [
       "'Train Data root mean square error-SS^2'"
      ]
     },
     "metadata": {},
     "output_type": "display_data"
    },
    {
     "data": {
      "text/plain": [
       "2.3369245027744894e-14"
      ]
     },
     "metadata": {},
     "output_type": "display_data"
    },
    {
     "data": {
      "text/plain": [
       "'Test Data root mean square error-SS^2'"
      ]
     },
     "metadata": {},
     "output_type": "display_data"
    },
    {
     "data": {
      "text/plain": [
       "2.46805040670594e-14"
      ]
     },
     "metadata": {},
     "output_type": "display_data"
    },
    {
     "data": {
      "text/plain": [
       "'Train Data root mean square error-Ridge'"
      ]
     },
     "metadata": {},
     "output_type": "display_data"
    },
    {
     "data": {
      "text/plain": [
       "0.003105835068141991"
      ]
     },
     "metadata": {},
     "output_type": "display_data"
    },
    {
     "data": {
      "text/plain": [
       "'Test Data root mean square error-Ridge'"
      ]
     },
     "metadata": {},
     "output_type": "display_data"
    },
    {
     "data": {
      "text/plain": [
       "0.0034739683595883947"
      ]
     },
     "metadata": {},
     "output_type": "display_data"
    }
   ],
   "source": [
    "def pred_fn(X, theta):\n",
    "    #TODO\n",
    "    pred=X@theta+0\n",
    "    return pred\n",
    "\n",
    "def RSME(pred, y):\n",
    "    n = np.size(y)\n",
    "    summ=np.zeros(n)\n",
    "    rmse=np.sqrt(np.sum((pred-y)**2)/n)\n",
    "    return rmse\n",
    "display('Train Data root mean square error-SS^2',RSME(pred_fn(X_train_n, theta_n),y_train_n))\n",
    "display('Test Data root mean square error-SS^2',RSME(pred_fn(X_test_n, theta_n),y_test_n))\n",
    "display('Train Data root mean square error-Ridge',RSME(pred_fn_n(X_train_n, theta_rn),y_train_n))\n",
    "display('Test Data root mean square error-Ridge',RSME(pred_fn(X_test_n, theta_rn),y_test_n))"
   ]
  },
  {
   "cell_type": "code",
   "execution_count": null,
   "id": "controversial-router",
   "metadata": {},
   "outputs": [],
   "source": []
  }
 ],
 "metadata": {
  "kernelspec": {
   "display_name": "Python 3",
   "language": "python",
   "name": "python3"
  },
  "language_info": {
   "codemirror_mode": {
    "name": "ipython",
    "version": 3
   },
   "file_extension": ".py",
   "mimetype": "text/x-python",
   "name": "python",
   "nbconvert_exporter": "python",
   "pygments_lexer": "ipython3",
   "version": "3.7.9-final"
  }
 },
 "nbformat": 4,
 "nbformat_minor": 5
}